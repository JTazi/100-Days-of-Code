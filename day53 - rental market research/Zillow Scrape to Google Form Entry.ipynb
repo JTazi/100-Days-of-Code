{
 "cells": [
  {
   "cell_type": "markdown",
   "id": "7af6e2aa",
   "metadata": {},
   "source": [
    "# Scrape Rental Property Data\n",
    "\n",
    "Scrape zillow clone for san francisco rental property data. Address, price per month, and url for listing will be submitted to google form."
   ]
  },
  {
   "cell_type": "code",
   "execution_count": 1,
   "id": "b83b8623",
   "metadata": {},
   "outputs": [],
   "source": [
    "import requests as re\n",
    "from bs4 import BeautifulSoup\n",
    "\n",
    "ZILLOW_URL = 'https://appbrewery.github.io/Zillow-Clone/'"
   ]
  },
  {
   "cell_type": "markdown",
   "id": "13799a58",
   "metadata": {},
   "source": [
    "## STEP 1: Scrape Zillow Data"
   ]
  },
  {
   "cell_type": "code",
   "execution_count": 3,
   "id": "14aa9708",
   "metadata": {},
   "outputs": [],
   "source": [
    "HEADERS = {\n",
    "    \"Accept\": \"text/html,application/xhtml+xml,application/xml;q=0.9,image/avif,image/webp,image/apng,*/*;q=0.8,application/signed-exchange;v=b3;q=0.7\", \n",
    "    \"Accept-Encoding\": \"gzip, deflate, br, zstd\", \n",
    "    \"Accept-Language\": \"en-US,en;q=0.9\",  \n",
    "    \"Priority\": \"u=0, i\", \n",
    "    \"Sec-Ch-Ua\": \"\\\"Chromium\\\";v=\\\"128\\\", \\\"Not;A=Brand\\\";v=\\\"24\\\", \\\"Google Chrome\\\";v=\\\"128\\\"\", \n",
    "    \"Sec-Ch-Ua-Mobile\": \"?0\", \n",
    "    \"Sec-Ch-Ua-Platform\": \"\\\"Windows\\\"\", \n",
    "    \"Sec-Fetch-Dest\": \"document\", \n",
    "    \"Sec-Fetch-Mode\": \"navigate\", \n",
    "    \"Sec-Fetch-Site\": \"cross-site\", \n",
    "    \"Sec-Fetch-User\": \"?1\", \n",
    "    \"Upgrade-Insecure-Requests\": \"1\", \n",
    "    \"User-Agent\": \"Chrome/128.0.0.0\",\n",
    "  }\n",
    "\n",
    "zillow_resp = re.get(ZILLOW_URL, headers = HEADERS)\n",
    "zillow_soup = BeautifulSoup(zillow_resp.text,\"html.parser\")"
   ]
  },
  {
   "cell_type": "code",
   "execution_count": 11,
   "id": "0c77a910",
   "metadata": {},
   "outputs": [],
   "source": [
    "# get list of li that belong to the ul grid of search results\n",
    "card_list = zillow_soup.select_one(\"#grid-search-results > ul\").find_all('li',class_=\"ListItem-c11n-8-84-3-StyledListCardWrapper\")"
   ]
  },
  {
   "cell_type": "code",
   "execution_count": 23,
   "id": "b0ea421f",
   "metadata": {},
   "outputs": [],
   "source": [
    "# iterate through list of search result cards and extract 3 data points into tuple, stored in list\n",
    "data_lst = []\n",
    "for card in card_list:\n",
    "    price = card.select_one(\"div.StyledPropertyCardDataWrapper > div.StyledPropertyCardDataArea-fDSTNn > div > span\").text.replace('+/mo','').replace('/mo','').replace('+ 1bd','').replace('+ 1 bd','')\n",
    "    address = card.select_one(\"div.StyledPropertyCardDataWrapper > a > address\").text.replace('\\n','').strip()\n",
    "    url = card.select_one(\"div.StyledPropertyCardDataWrapper > a\").get('href')\n",
    "    data_lst.append((address,price,url))"
   ]
  },
  {
   "cell_type": "code",
   "execution_count": 25,
   "id": "76ef01df",
   "metadata": {},
   "outputs": [
    {
     "data": {
      "text/plain": [
       "[('747 Geary Street, 747 Geary St, Oakland, CA 94609',\n",
       "  '$2,895',\n",
       "  'https://www.zillow.com/b/747-geary-street-oakland-ca-CYzGVt/'),\n",
       " ('Parkmerced | 3711 19th Ave, San Francisco, CA',\n",
       "  '$2,810',\n",
       "  'https://www.zillow.com/apartments/san-francisco-ca/parkmerced/5XjKHx/'),\n",
       " ('845 Sutter, 845 Sutter St APT 509, San Francisco, CA',\n",
       "  '$2,450',\n",
       "  'https://www.zillow.com/apartments/san-francisco-ca/845-sutter/5XkKMm/'),\n",
       " ('100 Van Ness, 100 Van Ness Ave #410, San Francisco, CA 94102',\n",
       "  '$2,940',\n",
       "  'https://www.zillow.com/apartments/san-francisco-ca/100-van-ness/5hJ5Sv/'),\n",
       " ('828 Franklin, 828 Franklin St #606, San Francisco, CA 94102',\n",
       "  '$2,395',\n",
       "  'https://www.zillow.com/apartments/san-francisco-ca/828-franklin/5XkH2V/')]"
      ]
     },
     "execution_count": 25,
     "metadata": {},
     "output_type": "execute_result"
    }
   ],
   "source": [
    "data_lst[:5]"
   ]
  },
  {
   "cell_type": "markdown",
   "id": "9d1b6bb6",
   "metadata": {},
   "source": [
    "## Step 2: Store Data in Google Form"
   ]
  },
  {
   "cell_type": "code",
   "execution_count": 35,
   "id": "9dd7320d",
   "metadata": {},
   "outputs": [],
   "source": [
    "from selenium import webdriver\n",
    "from selenium.webdriver.common.by import By\n",
    "from selenium.webdriver import ActionChains\n",
    "\n",
    "GOOGLE_FORM = 'https://docs.google.com/forms/d/e/1FAIpQLSdhGZ14C6axGWw7ClJKgOCQr4obm52hYSozEYQbd5vvAUqScw/viewform?usp=sf_link'\n"
   ]
  },
  {
   "cell_type": "code",
   "execution_count": 29,
   "id": "b2bbbbf9",
   "metadata": {},
   "outputs": [],
   "source": [
    "driver = webdriver.Chrome()\n",
    "driver.get(GOOGLE_FORM)"
   ]
  },
  {
   "cell_type": "code",
   "execution_count": 37,
   "id": "73d14e2e",
   "metadata": {},
   "outputs": [],
   "source": [
    "address_xpath = \"//*[@id='mG61Hd']/div[2]/div/div[2]/div[1]/div/div/div[2]/div/div[1]/div/div[1]/input\"\n",
    "price_xpath = \"//*[@id='mG61Hd']/div[2]/div/div[2]/div[2]/div/div/div[2]/div/div[1]/div/div[1]/input\"\n",
    "url_xpath = \"//*[@id='mG61Hd']/div[2]/div/div[2]/div[3]/div/div/div[2]/div/div[1]/div/div[1]/input\"\n",
    "\n",
    "submit_xpath = \"//*[@id='mG61Hd']/div[2]/div/div[3]/div[1]/div[1]/div/span/span\"\n",
    "\n",
    "newResponse_xpath = \"/html/body/div[1]/div[2]/div[1]/div/div[4]/a\""
   ]
  },
  {
   "cell_type": "code",
   "execution_count": 31,
   "id": "71be62e5",
   "metadata": {},
   "outputs": [],
   "source": [
    "# address = driver.find_element(By.XPATH, address_xpath)\n",
    "# address.send_keys(data_lst[0][0])"
   ]
  },
  {
   "cell_type": "code",
   "execution_count": 32,
   "id": "de21f5f6",
   "metadata": {},
   "outputs": [],
   "source": [
    "# price = driver.find_element(By.XPATH, price_xpath)\n",
    "# price.send_keys(data_lst[0][1])"
   ]
  },
  {
   "cell_type": "code",
   "execution_count": 33,
   "id": "b8a7175c",
   "metadata": {},
   "outputs": [],
   "source": [
    "# url = driver.find_element(By.XPATH, url_xpath)\n",
    "# url.send_keys(data_lst[0][2])"
   ]
  },
  {
   "cell_type": "code",
   "execution_count": 36,
   "id": "9e9e1bdb",
   "metadata": {},
   "outputs": [],
   "source": [
    "# submit = driver.find_element(By.XPATH,submit_xpath)\n",
    "# ActionChains(driver).click(submit).perform()"
   ]
  },
  {
   "cell_type": "code",
   "execution_count": 38,
   "id": "85fe4b3f",
   "metadata": {},
   "outputs": [],
   "source": [
    "# refresh = driver.find_element(By.XPATH,newResponse_xpath)\n",
    "# ActionChains(driver).click(refresh).perform()"
   ]
  },
  {
   "cell_type": "code",
   "execution_count": 39,
   "id": "b4162626",
   "metadata": {},
   "outputs": [],
   "source": [
    "# iterate through data entries and populate/submit google forms\n",
    "for entry in data_lst:\n",
    "    # select address input element, submit address\n",
    "    address = driver.find_element(By.XPATH, address_xpath)\n",
    "    address.send_keys(entry[0])\n",
    "    # select price input element, submit price\n",
    "    price = driver.find_element(By.XPATH, price_xpath)\n",
    "    price.send_keys(entry[1])\n",
    "    # select url input element, submit url\n",
    "    url = driver.find_element(By.XPATH, url_xpath)\n",
    "    url.send_keys(entry[2])\n",
    "    # click submit button\n",
    "    submit = driver.find_element(By.XPATH,submit_xpath)\n",
    "    ActionChains(driver).click(submit).perform()\n",
    "    # click refresh page for new submission button\n",
    "    refresh = driver.find_element(By.XPATH,newResponse_xpath)\n",
    "    ActionChains(driver).click(refresh).perform()"
   ]
  },
  {
   "cell_type": "markdown",
   "id": "7f54dfd7",
   "metadata": {},
   "source": [
    "## Step 3: Create Google Sheet with Responses:\n",
    "https://docs.google.com/spreadsheets/d/1mX4zK5af5WM9rZ6pfV5cipajMT3XiKrColKO3KJyQcg/edit?usp=sharing"
   ]
  },
  {
   "cell_type": "code",
   "execution_count": null,
   "id": "2392dd61",
   "metadata": {},
   "outputs": [],
   "source": []
  }
 ],
 "metadata": {
  "kernelspec": {
   "display_name": "Python 3 (ipykernel)",
   "language": "python",
   "name": "python3"
  },
  "language_info": {
   "codemirror_mode": {
    "name": "ipython",
    "version": 3
   },
   "file_extension": ".py",
   "mimetype": "text/x-python",
   "name": "python",
   "nbconvert_exporter": "python",
   "pygments_lexer": "ipython3",
   "version": "3.9.7"
  }
 },
 "nbformat": 4,
 "nbformat_minor": 5
}
