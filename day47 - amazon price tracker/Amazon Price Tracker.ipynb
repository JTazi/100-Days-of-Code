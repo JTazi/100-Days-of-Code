{
 "cells": [
  {
   "cell_type": "markdown",
   "id": "dbebcbcc",
   "metadata": {},
   "source": [
    "User provides amazon url for an item and a desired price point. The program scrapes the price and if the price is ever at or below the buy point, emails the user.\n",
    "\n",
    "# Scrape price from Amazon"
   ]
  },
  {
   "cell_type": "code",
   "execution_count": 1,
   "id": "eb586bc9",
   "metadata": {},
   "outputs": [],
   "source": [
    "import requests as re\n",
    "from bs4 import BeautifulSoup\n",
    "import smtplib\n",
    "from email.message import EmailMessage\n",
    "import os\n",
    "from dotenv import load_dotenv\n",
    "\n",
    "load_dotenv() #get environment variables from .env\n",
    "\n",
    "TARGET_PRICE = 100\n",
    "amazon_url = 'https://appbrewery.github.io/instant_pot/'\n",
    "\n",
    "HEADERS = {\n",
    "    \"Accept\": \"text/html,application/xhtml+xml,application/xml;q=0.9,image/avif,image/webp,image/apng,*/*;q=0.8,application/signed-exchange;v=b3;q=0.7\", \n",
    "    \"Accept-Encoding\": \"gzip, deflate, br, zstd\", \n",
    "    \"Accept-Language\": \"en-US,en;q=0.9\",  \n",
    "    \"Priority\": \"u=0, i\", \n",
    "    \"Sec-Ch-Ua\": \"\\\"Chromium\\\";v=\\\"128\\\", \\\"Not;A=Brand\\\";v=\\\"24\\\", \\\"Google Chrome\\\";v=\\\"128\\\"\", \n",
    "    \"Sec-Ch-Ua-Mobile\": \"?0\", \n",
    "    \"Sec-Ch-Ua-Platform\": \"\\\"Windows\\\"\", \n",
    "    \"Sec-Fetch-Dest\": \"document\", \n",
    "    \"Sec-Fetch-Mode\": \"navigate\", \n",
    "    \"Sec-Fetch-Site\": \"cross-site\", \n",
    "    \"Sec-Fetch-User\": \"?1\", \n",
    "    \"Upgrade-Insecure-Requests\": \"1\", \n",
    "    \"User-Agent\": \"Chrome/128.0.0.0\",\n",
    "  }"
   ]
  },
  {
   "cell_type": "code",
   "execution_count": 2,
   "id": "8b3f266f",
   "metadata": {},
   "outputs": [
    {
     "name": "stdout",
     "output_type": "stream",
     "text": [
      "$99.99\n",
      "Instant Pot Duo Plus 9-in-1\n"
     ]
    }
   ],
   "source": [
    "#code to retrieve html of product page, convert to soup object, extract price and product title\n",
    "\n",
    "response = re.get(amazon_url,headers=HEADERS)\n",
    "soup = BeautifulSoup(response.text, 'html.parser')\n",
    "\n",
    "dollars = soup.select_one('.a-price-whole').text\n",
    "cents = soup.select_one('.a-price-fraction').text\n",
    "\n",
    "product_title = soup.select_one('#productTitle').text.split(\"\\r\")[0].strip()\n",
    "print(f'${dollars}{cents}')\n",
    "print(product_title)"
   ]
  },
  {
   "cell_type": "code",
   "execution_count": 3,
   "id": "c1364e3b",
   "metadata": {},
   "outputs": [],
   "source": [
    "#function to send email notifying user of sale\n",
    "def send_email(price,product):\n",
    "    my_email = os.environ[\"EMAIL_ADDRESS\"]\n",
    "    app_pw = os.environ[\"EMAIL_PASSWORD\"]\n",
    "    msg = EmailMessage()\n",
    "    msg['Subject'] = 'Amazon Sale Notice'\n",
    "    msg['From'] = my_email\n",
    "    msg['To'] = my_email\n",
    "    msg.set_content(f'Amazon item: {product} \\nPrice: ${price}\\nTarget Price: ${TARGET_PRICE}')\n",
    "\n",
    "    with smtplib.SMTP(os.environ['SMTP_ADDRESS'],port=587) as connection:\n",
    "        connection.starttls()\n",
    "        connection.login(user = my_email, password = app_pw)\n",
    "        connection.send_message(msg)"
   ]
  },
  {
   "cell_type": "code",
   "execution_count": 5,
   "id": "5987a1ff",
   "metadata": {},
   "outputs": [],
   "source": [
    "if float(f'{dollars}{cents}') < TARGET_PRICE:\n",
    "    send_email(f'{dollars}{cents}',product_title)"
   ]
  },
  {
   "cell_type": "code",
   "execution_count": null,
   "id": "6f7f6f9f",
   "metadata": {},
   "outputs": [],
   "source": []
  }
 ],
 "metadata": {
  "kernelspec": {
   "display_name": "Python 3 (ipykernel)",
   "language": "python",
   "name": "python3"
  },
  "language_info": {
   "codemirror_mode": {
    "name": "ipython",
    "version": 3
   },
   "file_extension": ".py",
   "mimetype": "text/x-python",
   "name": "python",
   "nbconvert_exporter": "python",
   "pygments_lexer": "ipython3",
   "version": "3.9.7"
  }
 },
 "nbformat": 4,
 "nbformat_minor": 5
}
