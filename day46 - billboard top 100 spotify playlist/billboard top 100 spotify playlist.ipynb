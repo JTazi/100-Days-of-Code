{
 "cells": [
  {
   "cell_type": "markdown",
   "id": "917c0eff",
   "metadata": {},
   "source": [
    "# Scrape Billboard 100 for songs and Create Spotify Playlist"
   ]
  },
  {
   "cell_type": "code",
   "execution_count": 1,
   "id": "66d009df",
   "metadata": {},
   "outputs": [],
   "source": [
    "import requests as re\n",
    "from bs4 import BeautifulSoup\n",
    "import os\n",
    "\n",
    "import spotipy\n",
    "from spotipy.oauth2 import SpotifyOAuth\n",
    "\n",
    "# Setting a new environment variable\n",
    "os.environ['SPOTIPY_CLIENT_ID'] = '861d60b3123f4e46bb6b389cf20f8e20'\n",
    "os.environ['SPOTIPY_CLIENT_SECRET'] = '852eaf36d485420aa910e44ebde7d556'\n",
    "os.environ['SPOTIPY_REDIRECT_URI'] = 'http://localhost:3000'\n"
   ]
  },
  {
   "cell_type": "markdown",
   "id": "58cc5bc8",
   "metadata": {},
   "source": [
    "## Billboard Site Scrape"
   ]
  },
  {
   "cell_type": "code",
   "execution_count": 2,
   "id": "0ca44aad",
   "metadata": {},
   "outputs": [
    {
     "name": "stdout",
     "output_type": "stream",
     "text": [
      "Enter date for Billboard Top 100 songs(YYYY-MM-DD):2006-08-14\n"
     ]
    }
   ],
   "source": [
    "#get user determined date for scrape/playlist\n",
    "#date has to bee from last week or earlier\n",
    "date = input(\"Enter date for Billboard Top 100 songs(YYYY-MM-DD):\")\n",
    "\n",
    "url = f\"https://www.billboard.com/charts/hot-100/{date}\"\n",
    "\n",
    "response = re.get(url)\n",
    "soup = BeautifulSoup(response.text,\"html.parser\")\n"
   ]
  },
  {
   "cell_type": "code",
   "execution_count": 3,
   "id": "8b8f0326",
   "metadata": {},
   "outputs": [
    {
     "name": "stdout",
     "output_type": "stream",
     "text": [
      "Song List Length: 100\n"
     ]
    }
   ],
   "source": [
    "song_cards = soup.select('.o-chart-results-list-row-container')\n",
    "song_list = []\n",
    "for song in song_cards:\n",
    "    track_name = song.select_one('#title-of-a-story')\n",
    "    track = track_name.text.strip()\n",
    "    artist_name = track_name.find_next('span').text.strip()\n",
    "    song_list.append((track,artist_name))\n",
    "\n",
    "print(f'Song List Length: {len(song_list)}')"
   ]
  },
  {
   "cell_type": "markdown",
   "id": "3283df41",
   "metadata": {},
   "source": [
    "## Spotipy: Spotify API Library"
   ]
  },
  {
   "cell_type": "code",
   "execution_count": 4,
   "id": "c27997b9",
   "metadata": {},
   "outputs": [],
   "source": [
    "#get spotify authentication and create spotify api class\n",
    "#scopes limit the access an api has to user account based on desired function\n",
    "scope = \"playlist-modify-private\"\n",
    "#create class instance\n",
    "sp = spotipy.Spotify(auth_manager=SpotifyOAuth(scope=scope))"
   ]
  },
  {
   "cell_type": "code",
   "execution_count": 5,
   "id": "5d5b7618",
   "metadata": {},
   "outputs": [],
   "source": [
    "#create playlist\n",
    "play_resp = sp.user_playlist_create('jtazioli',f'Billboard Top 100, {date}',public=False,collaborative=False,description='Top 100 songs of the week according to Billboard top 100.')\n",
    "PLAYLIST_ID = play_resp['id']"
   ]
  },
  {
   "cell_type": "code",
   "execution_count": 6,
   "id": "6f6582de",
   "metadata": {},
   "outputs": [
    {
     "name": "stdout",
     "output_type": "stream",
     "text": [
      "ID List Length: 100\n"
     ]
    }
   ],
   "source": [
    "#find song URIs needed to add them to playlist\n",
    "#search q: q=track%3AsongName%20artist%3AartistName\n",
    "id_list = []\n",
    "for entry in song_list:\n",
    "    q=f'track%3{entry[0].replace(\" \", \"\")}%20artist%3{entry[1].replace(\" \", \"\")}'\n",
    "    track_response = sp.search(q,limit=1,offset=0,type='track',market='US')\n",
    "    id_list.append(track_response['tracks']['items'][0]['id'])\n",
    "print(f'ID List Length: {len(id_list)}')"
   ]
  },
  {
   "cell_type": "code",
   "execution_count": 7,
   "id": "0051f78f",
   "metadata": {},
   "outputs": [],
   "source": [
    "#add songs to playlist\n",
    "song_list\n",
    "results = sp.user_playlist_add_tracks('jtazioli',PLAYLIST_ID,id_list)"
   ]
  },
  {
   "cell_type": "code",
   "execution_count": 8,
   "id": "3c635e56",
   "metadata": {},
   "outputs": [
    {
     "data": {
      "text/plain": [
       "{'collaborative': False,\n",
       " 'description': 'Top 100 songs of the week according to Billboard top 100.',\n",
       " 'external_urls': {'spotify': 'https://open.spotify.com/playlist/1PY2YLSLjJuF1G8NIzjsYy'},\n",
       " 'followers': {'href': None, 'total': 0},\n",
       " 'href': 'https://api.spotify.com/v1/playlists/1PY2YLSLjJuF1G8NIzjsYy',\n",
       " 'id': '1PY2YLSLjJuF1G8NIzjsYy',\n",
       " 'images': [],\n",
       " 'primary_color': None,\n",
       " 'name': 'Billboard Top 100, 2006-08-14',\n",
       " 'type': 'playlist',\n",
       " 'uri': 'spotify:playlist:1PY2YLSLjJuF1G8NIzjsYy',\n",
       " 'owner': {'href': 'https://api.spotify.com/v1/users/jtazioli',\n",
       "  'id': 'jtazioli',\n",
       "  'type': 'user',\n",
       "  'uri': 'spotify:user:jtazioli',\n",
       "  'display_name': None,\n",
       "  'external_urls': {'spotify': 'https://open.spotify.com/user/jtazioli'}},\n",
       " 'public': False,\n",
       " 'snapshot_id': 'AAABLisUTp7A/PF14Fl3TA1ciZEmH3RJ',\n",
       " 'tracks': {'limit': 100,\n",
       "  'next': None,\n",
       "  'offset': 0,\n",
       "  'previous': None,\n",
       "  'href': 'https://api.spotify.com/v1/playlists/1PY2YLSLjJuF1G8NIzjsYy/tracks',\n",
       "  'total': 0,\n",
       "  'items': []}}"
      ]
     },
     "execution_count": 8,
     "metadata": {},
     "output_type": "execute_result"
    }
   ],
   "source": [
    "play_resp"
   ]
  },
  {
   "cell_type": "code",
   "execution_count": null,
   "id": "89e8729b",
   "metadata": {},
   "outputs": [],
   "source": []
  }
 ],
 "metadata": {
  "kernelspec": {
   "display_name": "Python 3 (ipykernel)",
   "language": "python",
   "name": "python3"
  },
  "language_info": {
   "codemirror_mode": {
    "name": "ipython",
    "version": 3
   },
   "file_extension": ".py",
   "mimetype": "text/x-python",
   "name": "python",
   "nbconvert_exporter": "python",
   "pygments_lexer": "ipython3",
   "version": "3.9.7"
  }
 },
 "nbformat": 4,
 "nbformat_minor": 5
}
