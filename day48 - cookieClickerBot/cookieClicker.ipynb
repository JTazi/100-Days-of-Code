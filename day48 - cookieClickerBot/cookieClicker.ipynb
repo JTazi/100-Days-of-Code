{
 "cells": [
  {
   "cell_type": "markdown",
   "id": "2615a789",
   "metadata": {},
   "source": [
    "# Automated Cookie Clicker:\n",
    "\n",
    "Plays the cookie clicker game for 5 minutes and prints out the Cookies Per Second metric in order to compare programs."
   ]
  },
  {
   "cell_type": "code",
   "execution_count": 1,
   "id": "6bf61abd",
   "metadata": {},
   "outputs": [],
   "source": [
    "from selenium import webdriver\n",
    "from selenium.webdriver.common.by import By\n",
    "from selenium.webdriver import ActionChains\n",
    "import time"
   ]
  },
  {
   "cell_type": "code",
   "execution_count": 34,
   "id": "5d58e50f",
   "metadata": {},
   "outputs": [],
   "source": [
    "cookie_url = \"https://orteil.dashnet.org/cookieclicker/\"\n",
    "\n",
    "cookie_english_xpath = \"//*[@id='langSelect-EN']\"\n",
    "\n",
    "buy_store = \"//*[@id='products']\"\n",
    "\n",
    "upgrade_box = \"//*[@id='upgrades']\"\n",
    "\n",
    "cookie_button = \"//*[@id='bigCookie']\"\n",
    "\n",
    "cookies_per_second = \"//*[@id='cookiesPerSecond']\""
   ]
  },
  {
   "cell_type": "code",
   "execution_count": 35,
   "id": "d5c72590",
   "metadata": {},
   "outputs": [
    {
     "name": "stdout",
     "output_type": "stream",
     "text": [
      "per second: 5.6\n"
     ]
    }
   ],
   "source": [
    "# open chrome page and go to game url\n",
    "chrome_options = webdriver.ChromeOptions()\n",
    "chrome_options.add_experimental_option('detach',True)\n",
    "driver = webdriver.Chrome(options=chrome_options)\n",
    "driver.get(cookie_url)\n",
    "time.sleep(10)\n",
    "\n",
    "#url has pop up menu with language selection before starting game\n",
    "start = driver.find_element(By.XPATH, value = cookie_english_xpath)\n",
    "ActionChains(driver).click(start).perform()\n",
    "time.sleep(5)\n",
    "START_TIME = time.time()\n",
    "gaming = True\n",
    "while gaming == True:\n",
    "    click_counter = 0\n",
    "    while click_counter < 20:\n",
    "        #do 100 mouse clicks on cookie  then check for upgrades\n",
    "        cookie = driver.find_element(By.XPATH, cookie_button)\n",
    "        ActionChains(driver).click(cookie).perform()\n",
    "        click_counter += 1\n",
    "        time.sleep(0.05)\n",
    "    \n",
    "    # check for upgrades\n",
    "    # class names can't have spaces, periods instead\n",
    "    unlocks = driver.find_elements(By.CLASS_NAME,'product.unlocked.enabled')\n",
    "    for x in range(len(unlocks)-1,-1,-1):\n",
    "        ActionChains(driver).click(unlocks[x]).perform()\n",
    "        time.sleep(0.25)\n",
    "        \n",
    "    #run for 5 minutes before quitting\n",
    "    if time.time()-START_TIME > 300:\n",
    "        print(driver.find_element(By.XPATH,cookies_per_second).text)\n",
    "        gaming = False\n",
    "#close the chrome window\n",
    "driver.quit()        "
   ]
  }
 ],
 "metadata": {
  "kernelspec": {
   "display_name": "Python 3 (ipykernel)",
   "language": "python",
   "name": "python3"
  },
  "language_info": {
   "codemirror_mode": {
    "name": "ipython",
    "version": 3
   },
   "file_extension": ".py",
   "mimetype": "text/x-python",
   "name": "python",
   "nbconvert_exporter": "python",
   "pygments_lexer": "ipython3",
   "version": "3.9.7"
  }
 },
 "nbformat": 4,
 "nbformat_minor": 5
}
