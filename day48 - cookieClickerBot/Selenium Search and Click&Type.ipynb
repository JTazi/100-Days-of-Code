{
 "cells": [
  {
   "cell_type": "code",
   "execution_count": 9,
   "id": "5a1b9544",
   "metadata": {},
   "outputs": [],
   "source": [
    "from selenium import webdriver\n",
    "from selenium.webdriver.common.by import By"
   ]
  },
  {
   "cell_type": "code",
   "execution_count": 6,
   "id": "9f865fe5",
   "metadata": {},
   "outputs": [],
   "source": [
    "chrome_options = webdriver.ChromeOptions()\n",
    "chrome_options.add_experimental_option('detach',True)"
   ]
  },
  {
   "cell_type": "code",
   "execution_count": 7,
   "id": "a63781d7",
   "metadata": {},
   "outputs": [],
   "source": [
    "driver = webdriver.Chrome(options=chrome_options)\n",
    "driver.get('https://www.python.org/')"
   ]
  },
  {
   "cell_type": "code",
   "execution_count": 18,
   "id": "11684711",
   "metadata": {},
   "outputs": [],
   "source": [
    "# date = driver.find_element(By.XPATH,\"//*[@id='content']/div/section/div[2]/div[2]/div/ul/li[1]/time\").text\n",
    "# create dictionary of python.org upcoming events with date and event name values\n",
    "events_list = driver.find_element(By.XPATH,\"//*[@id='content']/div/section/div[2]/div[2]/div/ul\")\n",
    "events = events_list.find_elements(By.TAG_NAME, \"li\")\n",
    "\n",
    "count = 0\n",
    "event_dict = {}\n",
    "for event in events:\n",
    "    event_name = event.find_element(By.TAG_NAME, \"a\").text\n",
    "    event_date = event.find_element(By.TAG_NAME, \"time\").text\n",
    "    event_dict[count] = {'time':event_date,'name':event_name}\n",
    "    count += 1\n",
    "\n",
    "    \n",
    "# close closes tab, quit closes browser \n",
    "driver.close()\n",
    "# driver.quit()\n",
    "\n",
    "\n",
    "event_dict"
   ]
  },
  {
   "cell_type": "code",
   "execution_count": 22,
   "id": "7fbfddf3",
   "metadata": {},
   "outputs": [],
   "source": [
    "def get_wiki_article_count():\n",
    "    wiki_url = \"https://en.wikipedia.org/wiki/Main_Page\"\n",
    "    driver = webdriver.Chrome(options=chrome_options)\n",
    "    driver.get(wiki_url)\n",
    "    article_count = driver.find_element(By.XPATH,value=\"//*[@id='articlecount']/a[1]\").text\n",
    "    driver.close()\n",
    "    print(article_count)"
   ]
  },
  {
   "cell_type": "code",
   "execution_count": 23,
   "id": "71a2cb54",
   "metadata": {},
   "outputs": [
    {
     "name": "stdout",
     "output_type": "stream",
     "text": [
      "6,885,150\n"
     ]
    }
   ],
   "source": [
    "get_wiki_article_count()"
   ]
  },
  {
   "cell_type": "code",
   "execution_count": 5,
   "id": "e7d90c33",
   "metadata": {},
   "outputs": [],
   "source": [
    "#list of elements for By selector in driver.find_element(By.,value=)\n",
    "find_element(By.ID, \"id\")\n",
    "find_element(By.NAME, \"name\")\n",
    "find_element(By.XPATH, \"xpath\")\n",
    "find_element(By.LINK_TEXT, \"link text\")\n",
    "find_element(By.PARTIAL_LINK_TEXT, \"partial link text\")\n",
    "find_element(By.TAG_NAME, \"tag name\")\n",
    "find_element(By.CLASS_NAME, \"class name\")\n",
    "find_element(By.CSS_SELECTOR, \"css selector\")"
   ]
  },
  {
   "cell_type": "markdown",
   "id": "af3b8189",
   "metadata": {},
   "source": [
    "## Sending Keystrokes "
   ]
  },
  {
   "cell_type": "code",
   "execution_count": 24,
   "id": "6a0f6a50",
   "metadata": {},
   "outputs": [],
   "source": [
    "from selenium.webdriver.common.keys import Keys"
   ]
  },
  {
   "cell_type": "code",
   "execution_count": null,
   "id": "cd55723d",
   "metadata": {},
   "outputs": [],
   "source": [
    "# Navigate to wikipedia\n",
    "wiki_url = \"https://en.wikipedia.org/wiki/Main_Page\"\n",
    "driver = webdriver.Chrome(options=chrome_options)\n",
    "driver.get(wiki_url)\n",
    "\n",
    "# finding search input by  name\n",
    "search = driver.find_element(By.NAME, value = \"search\")\n",
    "\n",
    "# sending keyboard input to selenium\n",
    "# url for list of Key values, can also send text as string\n",
    "# https://www.selenium.dev/selenium/docs/api/py/webdriver/selenium.webdriver.common.keys.html\n",
    "# search.send_keys(\"Python\")\n",
    "# search.send_keys(Keys.ENTER)\n",
    "# OR \n",
    "search.send_keys(\"Python\",Keys.ENTER)\n",
    "\n",
    "driver.close()\n"
   ]
  }
 ],
 "metadata": {
  "kernelspec": {
   "display_name": "Python 3 (ipykernel)",
   "language": "python",
   "name": "python3"
  },
  "language_info": {
   "codemirror_mode": {
    "name": "ipython",
    "version": 3
   },
   "file_extension": ".py",
   "mimetype": "text/x-python",
   "name": "python",
   "nbconvert_exporter": "python",
   "pygments_lexer": "ipython3",
   "version": "3.9.7"
  }
 },
 "nbformat": 4,
 "nbformat_minor": 5
}
